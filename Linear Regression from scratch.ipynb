{
 "cells": [
  {
   "cell_type": "code",
   "execution_count": 20,
   "metadata": {},
   "outputs": [],
   "source": [
    "#Importing required Libraries \n",
    "import pandas as pd \n",
    "import matplotlib.pyplot as plt \n",
    "import numpy as np"
   ]
  },
  {
   "cell_type": "code",
   "execution_count": 21,
   "metadata": {},
   "outputs": [
    {
     "name": "stdout",
     "output_type": "stream",
     "text": [
      "                     Id  SepalLengthCm  SepalWidthCm  PetalLengthCm  \\\n",
      "Id             1.000000       0.716676     -0.397729       0.882747   \n",
      "SepalLengthCm  0.716676       1.000000     -0.109369       0.871754   \n",
      "SepalWidthCm  -0.397729      -0.109369      1.000000      -0.420516   \n",
      "PetalLengthCm  0.882747       0.871754     -0.420516       1.000000   \n",
      "PetalWidthCm   0.899759       0.817954     -0.356544       0.962757   \n",
      "\n",
      "               PetalWidthCm  \n",
      "Id                 0.899759  \n",
      "SepalLengthCm      0.817954  \n",
      "SepalWidthCm      -0.356544  \n",
      "PetalLengthCm      0.962757  \n",
      "PetalWidthCm       1.000000  \n"
     ]
    }
   ],
   "source": [
    "#import and analyse dataset \n",
    "source_data = pd.read_csv('Iris.csv') \n",
    "#print(source_data.info())\n",
    "#This Dataset contains 5 columns containing values of corresponding estimates of iris flower and the species\n",
    "#Now removing the string column and checking for any correlation:\n",
    "correlation = source_data.select_dtypes(exclude=\"object\")\n",
    "print(correlation.corr()) \n",
    "#we can see that petal length and petal width have a correlation of 0.96 , therefore we will consider them as datasets for the regression model "
   ]
  },
  {
   "cell_type": "code",
   "execution_count": 22,
   "metadata": {},
   "outputs": [
    {
     "name": "stdout",
     "output_type": "stream",
     "text": [
      "0      1.4\n",
      "1      1.4\n",
      "2      1.3\n",
      "3      1.5\n",
      "4      1.4\n",
      "5      1.7\n",
      "6      1.4\n",
      "7      1.5\n",
      "8      1.4\n",
      "9      1.5\n",
      "10     1.5\n",
      "11     1.6\n",
      "12     1.4\n",
      "13     1.1\n",
      "14     1.2\n",
      "15     1.5\n",
      "16     1.3\n",
      "17     1.4\n",
      "18     1.7\n",
      "19     1.5\n",
      "20     1.7\n",
      "21     1.5\n",
      "22     1.0\n",
      "23     1.7\n",
      "24     1.9\n",
      "25     1.6\n",
      "26     1.6\n",
      "27     1.5\n",
      "28     1.4\n",
      "29     1.6\n",
      "30     1.6\n",
      "31     1.5\n",
      "32     1.5\n",
      "33     1.4\n",
      "34     1.5\n",
      "35     1.2\n",
      "36     1.3\n",
      "37     1.5\n",
      "38     1.3\n",
      "39     1.5\n",
      "40     1.3\n",
      "41     1.3\n",
      "42     1.3\n",
      "43     1.6\n",
      "44     1.9\n",
      "45     1.4\n",
      "46     1.6\n",
      "47     1.4\n",
      "48     1.5\n",
      "49     1.4\n",
      "50     4.7\n",
      "51     4.5\n",
      "52     4.9\n",
      "53     4.0\n",
      "54     4.6\n",
      "55     4.5\n",
      "56     4.7\n",
      "57     3.3\n",
      "58     4.6\n",
      "59     3.9\n",
      "60     3.5\n",
      "61     4.2\n",
      "62     4.0\n",
      "63     4.7\n",
      "64     3.6\n",
      "65     4.4\n",
      "66     4.5\n",
      "67     4.1\n",
      "68     4.5\n",
      "69     3.9\n",
      "70     4.8\n",
      "71     4.0\n",
      "72     4.9\n",
      "73     4.7\n",
      "74     4.3\n",
      "75     4.4\n",
      "76     4.8\n",
      "77     5.0\n",
      "78     4.5\n",
      "79     3.5\n",
      "80     3.8\n",
      "81     3.7\n",
      "82     3.9\n",
      "83     5.1\n",
      "84     4.5\n",
      "85     4.5\n",
      "86     4.7\n",
      "87     4.4\n",
      "88     4.1\n",
      "89     4.0\n",
      "90     4.4\n",
      "91     4.6\n",
      "92     4.0\n",
      "93     3.3\n",
      "94     4.2\n",
      "95     4.2\n",
      "96     4.2\n",
      "97     4.3\n",
      "98     3.0\n",
      "99     4.1\n",
      "100    6.0\n",
      "101    5.1\n",
      "102    5.9\n",
      "103    5.6\n",
      "104    5.8\n",
      "105    6.6\n",
      "106    4.5\n",
      "107    6.3\n",
      "108    5.8\n",
      "109    6.1\n",
      "110    5.1\n",
      "111    5.3\n",
      "112    5.5\n",
      "113    5.0\n",
      "114    5.1\n",
      "115    5.3\n",
      "116    5.5\n",
      "117    6.7\n",
      "118    6.9\n",
      "119    5.0\n",
      "120    5.7\n",
      "121    4.9\n",
      "122    6.7\n",
      "123    4.9\n",
      "124    5.7\n",
      "125    6.0\n",
      "126    4.8\n",
      "127    4.9\n",
      "128    5.6\n",
      "129    5.8\n",
      "130    6.1\n",
      "131    6.4\n",
      "132    5.6\n",
      "133    5.1\n",
      "134    5.6\n",
      "135    6.1\n",
      "136    5.6\n",
      "137    5.5\n",
      "138    4.8\n",
      "139    5.4\n",
      "140    5.6\n",
      "141    5.1\n",
      "142    5.1\n",
      "143    5.9\n",
      "144    5.7\n",
      "145    5.2\n",
      "146    5.0\n",
      "147    5.2\n",
      "148    5.4\n",
      "149    5.1 <bound method Series.to_string of 0      0.2\n",
      "1      0.2\n",
      "2      0.2\n",
      "3      0.2\n",
      "4      0.2\n",
      "      ... \n",
      "145    2.3\n",
      "146    1.9\n",
      "147    2.0\n",
      "148    2.3\n",
      "149    1.8\n",
      "Name: PetalWidthCm, Length: 150, dtype: float64>\n"
     ]
    }
   ],
   "source": [
    "x = source_data[\"PetalLengthCm\"]\n",
    "y = source_data[\"PetalWidthCm\"]\n",
    "print(x.to_string(),y.to_string)\n",
    "# We can observe that there are no null rows nor any outliers , so this data does not need any correction "
   ]
  },
  {
   "cell_type": "code",
   "execution_count": 23,
   "metadata": {},
   "outputs": [
    {
     "data": {
      "image/png": "[encoded data removed]",
      "text/plain": [
       "<Figure size 640x480 with 1 Axes>"
      ]
     },
     "metadata": {},
     "output_type": "display_data"
    }
   ],
   "source": [
    "# Creating a graph to visualise the data \n",
    "plt.scatter(x,y)\n",
    "plt.xlabel(\"Petal Length\")\n",
    "plt.ylabel(\"Petal Width\")\n",
    "plt.show()"
   ]
  },
  {
   "cell_type": "code",
   "execution_count": 24,
   "metadata": {},
   "outputs": [],
   "source": [
    "def rmse_metric(actual, predicted):\n",
    " sum_error = 0.0\n",
    " for y, y_hat in zip(actual,predicted) :\n",
    "    prediction_error = y - y_hat\n",
    "    sum_error += (prediction_error ** 2)\n",
    "    mean_error = sum_error / float(len(actual))\n",
    "    return sqrt(mean_error)"
   ]
  },
  {
   "cell_type": "code",
   "execution_count": 25,
   "metadata": {},
   "outputs": [],
   "source": [
    "# Calculate coefficients\n",
    "def compute_coefficient(x, y):\n",
    "    n = len(x)\n",
    "    x_mean = np.mean(x)\n",
    "    y_mean = np.mean(y)\n",
    "\n",
    "    numerator = 0\n",
    "    denominator = 0\n",
    "\n",
    "    for i in range(n):\n",
    "        numerator += (x[i] - x_mean) * (y[i] - y_mean)\n",
    "        denominator += (x[i] - x_mean) ** 2\n",
    "\n",
    "    \n",
    "    slope = numerator / denominator\n",
    "    intercept = y_mean - slope * x_mean\n",
    "\n",
    "    return slope, intercept"
   ]
  },
  {
   "cell_type": "code",
   "execution_count": 26,
   "metadata": {},
   "outputs": [],
   "source": [
    "# Predict value of y \n",
    "def predict(x, w1, w0):\n",
    "    return w1 * x + w0"
   ]
  },
  {
   "cell_type": "code",
   "execution_count": 28,
   "metadata": {},
   "outputs": [
    {
     "name": "stdout",
     "output_type": "stream",
     "text": [
      "0.4164191322854012 -0.3665140452167275\n"
     ]
    }
   ],
   "source": [
    "#predict co-efficients and display the  values of co-effiecients\n",
    "w1, w0 = compute_coefficient(x, y)\n",
    "y_hat = predict(x,w1,w0)\n",
    "\n",
    "print(w1,w0)"
   ]
  },
  {
   "cell_type": "code",
   "execution_count": 29,
   "metadata": {},
   "outputs": [
    {
     "name": "stdout",
     "output_type": "stream",
     "text": [
      "(0.04228994631948424, 0.20564519522586527)\n"
     ]
    }
   ],
   "source": [
    "# Evaluation by calculating root-mean squared value\n",
    "def evaluate_ols(y,y_hat):\n",
    "    mse = np.mean((y - y_hat) ** 2)\n",
    "    return mse,np.sqrt(mse)\n",
    "print(evaluate_ols(y,y_hat)) "
   ]
  },
  {
   "cell_type": "code",
   "execution_count": 31,
   "metadata": {},
   "outputs": [
    {
     "data": {
      "image/png": "[encoded data removed]",
      "text/plain": [
       "<Figure size 640x480 with 1 Axes>"
      ]
     },
     "metadata": {},
     "output_type": "display_data"
    }
   ],
   "source": [
    "# Plot predicted line vs actual values \n",
    "plt.scatter(x, y, label='Observed Value')\n",
    "plt.plot(x, y_hat, label='Predicted Value', color='red')\n",
    "plt.xlabel('<--X-Axis-->')\n",
    "plt.ylabel('<--Y-Axis-->')\n",
    "plt.legend()\n",
    "plt.show()"
   ]
  }
 ],
 "metadata": {
  "kernelspec": {
   "display_name": "Python 3",
   "language": "python",
   "name": "python3"
  },
  "language_info": {
   "codemirror_mode": {
    "name": "ipython",
    "version": 3
   },
   "file_extension": ".py",
   "mimetype": "text/x-python",
   "name": "python",
   "nbconvert_exporter": "python",
   "pygments_lexer": "ipython3",
   "version": "3.11.7"
  }
 },
 "nbformat": 4,
 "nbformat_minor": 2
}
